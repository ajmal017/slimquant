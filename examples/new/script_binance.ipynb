{
 "cells": [
  {
   "cell_type": "code",
   "execution_count": null,
   "metadata": {
    "collapsed": true
   },
   "outputs": [],
   "source": [
    "from vnpy.app.script_trader import init_cli_trading\n",
    "from vnpy.gateway.binance import BinanceGateway\n",
    "import yaml\n",
    "with open('/home/tao/lab/slimquant/.env.yaml') as f:\n",
    "    data = yaml.load(f, Loader=yaml.FullLoader)['binance']\n",
    "    default_setting = {\n",
    "        \"key\": data['key'],\n",
    "        \"secret\": data['secret'],\n",
    "        \"session_number\": data['session_number'],\n",
    "        \"proxy_host\": data['proxy_host'],\n",
    "        \"proxy_port\": data['proxy_port'],\n",
    "    }\n",
    "engine = init_cli_trading([BinanceGateway])\n",
    "\n",
    "engine.connect_gateway(default_setting, \"BINANCE\")\n",
    "\n"
   ]
  },
  {
   "cell_type": "code",
   "execution_count": null,
   "outputs": [],
   "source": [
    "engine.get_all_contracts(use_df=True)\n",
    "\n",
    "#\n",
    "\n",
    "# 查询所有合约\n",
    "#print(engine.get_all_contracts(use_df=True).to_string())\n",
    "\n",
    "# 查询资金\n",
    "#print(engine.get_all_accounts(use_df=True).to_string())\n",
    "\n",
    "# 查询持仓\n",
    "#print(engine.get_tick(vt_symbol=\"XRP-OKB.OKEX\", use_df=True).to_string())\n",
    "\n"
   ],
   "metadata": {
    "collapsed": false,
    "pycharm": {
     "name": "#%%\n"
    }
   }
  },
  {
   "cell_type": "code",
   "execution_count": null,
   "outputs": [],
   "source": [
    "engine.start_strategy(\"/home/tao/lab/slimquant/examples/new/script_demo.py\")\n"
   ],
   "metadata": {
    "collapsed": false,
    "pycharm": {
     "name": "#%%\n"
    }
   }
  }
 ],
 "metadata": {
  "kernelspec": {
   "display_name": "Python 3",
   "language": "python",
   "name": "python3"
  },
  "language_info": {
   "codemirror_mode": {
    "name": "ipython",
    "version": 2
   },
   "file_extension": ".py",
   "mimetype": "text/x-python",
   "name": "python",
   "nbconvert_exporter": "python",
   "pygments_lexer": "ipython2",
   "version": "2.7.6"
  },
  "pycharm": {
   "stem_cell": {
    "cell_type": "raw",
    "source": [],
    "metadata": {
     "collapsed": false
    }
   }
  }
 },
 "nbformat": 4,
 "nbformat_minor": 0
}