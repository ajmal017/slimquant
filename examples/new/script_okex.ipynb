{
 "cells": [
  {
   "cell_type": "code",
   "execution_count": null,
   "metadata": {
    "collapsed": true
   },
   "outputs": [],
   "source": [
    "from vnpy.app.script_trader import init_cli_trading\n",
    "from vnpy.gateway.okex import OkexGateway\n",
    "import yaml\n",
    "with open('/home/tao/lab/slimquant/.env.yaml') as f:\n",
    "    data = yaml.load(f, Loader=yaml.FullLoader)\n",
    "    okex_setting = {\n",
    "        \"API Key\": data['okex']['api_key'],\n",
    "        \"Secret Key\": data['okex']['secret_key'],\n",
    "        \"Passphrase\": data['okex']['passphrase'],\n",
    "        \"会话数\": data['okex']['session_num'],\n",
    "        \"代理地址\": data['okex']['proxy_ip'],\n",
    "        \"代理端口\": data['okex']['proxy_port'],\n",
    "    }\n",
    "engine = init_cli_trading([OkexGateway])\n",
    "engine.connect_gateway(okex_setting, \"OKEX\")\n",
    "\n",
    "engine.start_strategy(\"/home/tao/lab/slimquant/examples/new/script_demo.py\")\n",
    "\n",
    "# 查询所有合约\n",
    "#print(engine.get_all_contracts(use_df=True).to_string())\n",
    "\n",
    "# 查询资金\n",
    "#print(engine.get_all_accounts(use_df=True).to_string())\n",
    "\n",
    "# 查询持仓\n",
    "#print(engine.get_tick(vt_symbol=\"XRP-OKB.OKEX\", use_df=True).to_string())\n",
    "\n",
    "\n"
   ]
  }
 ],
 "metadata": {
  "kernelspec": {
   "display_name": "Python 3",
   "language": "python",
   "name": "python3"
  },
  "language_info": {
   "codemirror_mode": {
    "name": "ipython",
    "version": 2
   },
   "file_extension": ".py",
   "mimetype": "text/x-python",
   "name": "python",
   "nbconvert_exporter": "python",
   "pygments_lexer": "ipython2",
   "version": "2.7.6"
  },
  "pycharm": {
   "stem_cell": {
    "cell_type": "raw",
    "source": [],
    "metadata": {
     "collapsed": false
    }
   }
  }
 },
 "nbformat": 4,
 "nbformat_minor": 0
}